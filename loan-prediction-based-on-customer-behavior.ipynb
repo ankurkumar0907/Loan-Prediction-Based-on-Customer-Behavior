{
 "cells": [
  {
   "cell_type": "markdown",
   "id": "68d29a5e",
   "metadata": {
    "papermill": {
     "duration": 0.014604,
     "end_time": "2023-11-14T08:34:18.742696",
     "exception": false,
     "start_time": "2023-11-14T08:34:18.728092",
     "status": "completed"
    },
    "tags": []
   },
   "source": [
    "# Import Library"
   ]
  },
  {
   "cell_type": "code",
   "execution_count": 1,
   "id": "10cab338",
   "metadata": {
    "_cell_guid": "b1076dfc-b9ad-4769-8c92-a6c4dae69d19",
    "_uuid": "8f2839f25d086af736a60e9eeb907d3b93b6e0e5",
    "execution": {
     "iopub.execute_input": "2023-11-14T08:34:18.776309Z",
     "iopub.status.busy": "2023-11-14T08:34:18.775595Z",
     "iopub.status.idle": "2023-11-14T08:34:21.818616Z",
     "shell.execute_reply": "2023-11-14T08:34:21.817069Z"
    },
    "papermill": {
     "duration": 3.06372,
     "end_time": "2023-11-14T08:34:21.822062",
     "exception": false,
     "start_time": "2023-11-14T08:34:18.758342",
     "status": "completed"
    },
    "tags": []
   },
   "outputs": [],
   "source": [
    "import numpy as np \n",
    "import pandas as pd \n",
    "import matplotlib.pyplot as plt\n",
    "import seaborn as sns\n",
    "from sklearn.model_selection import train_test_split\n",
    "from imblearn.over_sampling import RandomOverSampler\n",
    "from sklearn.preprocessing import LabelEncoder\n",
    "from sklearn.preprocessing import StandardScaler\n",
    "from sklearn.ensemble import RandomForestClassifier\n",
    "from sklearn.metrics import confusion_matrix,classification_report,accuracy_score"
   ]
  },
  {
   "cell_type": "markdown",
   "id": "2e98d3c6",
   "metadata": {
    "papermill": {
     "duration": 0.014102,
     "end_time": "2023-11-14T08:34:21.850362",
     "exception": false,
     "start_time": "2023-11-14T08:34:21.836260",
     "status": "completed"
    },
    "tags": []
   },
   "source": [
    "# Read data"
   ]
  },
  {
   "cell_type": "code",
   "execution_count": 2,
   "id": "7e8e7827",
   "metadata": {
    "execution": {
     "iopub.execute_input": "2023-11-14T08:34:21.880791Z",
     "iopub.status.busy": "2023-11-14T08:34:21.880148Z",
     "iopub.status.idle": "2023-11-14T08:34:22.757895Z",
     "shell.execute_reply": "2023-11-14T08:34:22.756867Z"
    },
    "papermill": {
     "duration": 0.896517,
     "end_time": "2023-11-14T08:34:22.761012",
     "exception": false,
     "start_time": "2023-11-14T08:34:21.864495",
     "status": "completed"
    },
    "tags": []
   },
   "outputs": [],
   "source": [
    "df = pd.read_csv(\"/kaggle/input/loan-prediction-based-on-customer-behavior/Training Data.csv\")"
   ]
  },
  {
   "cell_type": "markdown",
   "id": "68fa9283",
   "metadata": {
    "papermill": {
     "duration": 0.013927,
     "end_time": "2023-11-14T08:34:22.789078",
     "exception": false,
     "start_time": "2023-11-14T08:34:22.775151",
     "status": "completed"
    },
    "tags": []
   },
   "source": [
    "# Sample Of Data"
   ]
  },
  {
   "cell_type": "code",
   "execution_count": 3,
   "id": "c3d79e1e",
   "metadata": {
    "execution": {
     "iopub.execute_input": "2023-11-14T08:34:22.820219Z",
     "iopub.status.busy": "2023-11-14T08:34:22.819780Z",
     "iopub.status.idle": "2023-11-14T08:34:22.877500Z",
     "shell.execute_reply": "2023-11-14T08:34:22.875824Z"
    },
    "papermill": {
     "duration": 0.078017,
     "end_time": "2023-11-14T08:34:22.881790",
     "exception": false,
     "start_time": "2023-11-14T08:34:22.803773",
     "status": "completed"
    },
    "tags": []
   },
   "outputs": [
    {
     "data": {
      "text/html": [
       "<div>\n",
       "<style scoped>\n",
       "    .dataframe tbody tr th:only-of-type {\n",
       "        vertical-align: middle;\n",
       "    }\n",
       "\n",
       "    .dataframe tbody tr th {\n",
       "        vertical-align: top;\n",
       "    }\n",
       "\n",
       "    .dataframe thead th {\n",
       "        text-align: right;\n",
       "    }\n",
       "</style>\n",
       "<table border=\"1\" class=\"dataframe\">\n",
       "  <thead>\n",
       "    <tr style=\"text-align: right;\">\n",
       "      <th></th>\n",
       "      <th>Id</th>\n",
       "      <th>Income</th>\n",
       "      <th>Age</th>\n",
       "      <th>Experience</th>\n",
       "      <th>Married/Single</th>\n",
       "      <th>House_Ownership</th>\n",
       "      <th>Car_Ownership</th>\n",
       "      <th>Profession</th>\n",
       "      <th>CITY</th>\n",
       "      <th>STATE</th>\n",
       "      <th>CURRENT_JOB_YRS</th>\n",
       "      <th>CURRENT_HOUSE_YRS</th>\n",
       "      <th>Risk_Flag</th>\n",
       "    </tr>\n",
       "  </thead>\n",
       "  <tbody>\n",
       "    <tr>\n",
       "      <th>190587</th>\n",
       "      <td>190588</td>\n",
       "      <td>5674867</td>\n",
       "      <td>69</td>\n",
       "      <td>4</td>\n",
       "      <td>single</td>\n",
       "      <td>rented</td>\n",
       "      <td>yes</td>\n",
       "      <td>Firefighter</td>\n",
       "      <td>Jamnagar</td>\n",
       "      <td>Gujarat</td>\n",
       "      <td>3</td>\n",
       "      <td>10</td>\n",
       "      <td>0</td>\n",
       "    </tr>\n",
       "    <tr>\n",
       "      <th>201938</th>\n",
       "      <td>201939</td>\n",
       "      <td>8934196</td>\n",
       "      <td>51</td>\n",
       "      <td>18</td>\n",
       "      <td>single</td>\n",
       "      <td>owned</td>\n",
       "      <td>no</td>\n",
       "      <td>Chemical_engineer</td>\n",
       "      <td>Kumbakonam</td>\n",
       "      <td>Tamil_Nadu</td>\n",
       "      <td>3</td>\n",
       "      <td>10</td>\n",
       "      <td>0</td>\n",
       "    </tr>\n",
       "    <tr>\n",
       "      <th>73293</th>\n",
       "      <td>73294</td>\n",
       "      <td>6758342</td>\n",
       "      <td>33</td>\n",
       "      <td>3</td>\n",
       "      <td>single</td>\n",
       "      <td>rented</td>\n",
       "      <td>no</td>\n",
       "      <td>Comedian</td>\n",
       "      <td>Patiala</td>\n",
       "      <td>Punjab</td>\n",
       "      <td>3</td>\n",
       "      <td>11</td>\n",
       "      <td>0</td>\n",
       "    </tr>\n",
       "    <tr>\n",
       "      <th>220450</th>\n",
       "      <td>220451</td>\n",
       "      <td>1389454</td>\n",
       "      <td>32</td>\n",
       "      <td>16</td>\n",
       "      <td>single</td>\n",
       "      <td>rented</td>\n",
       "      <td>no</td>\n",
       "      <td>Surgeon</td>\n",
       "      <td>Udaipur</td>\n",
       "      <td>Rajasthan</td>\n",
       "      <td>3</td>\n",
       "      <td>12</td>\n",
       "      <td>0</td>\n",
       "    </tr>\n",
       "    <tr>\n",
       "      <th>173195</th>\n",
       "      <td>173196</td>\n",
       "      <td>4614035</td>\n",
       "      <td>42</td>\n",
       "      <td>15</td>\n",
       "      <td>single</td>\n",
       "      <td>rented</td>\n",
       "      <td>no</td>\n",
       "      <td>Flight_attendant</td>\n",
       "      <td>Miryalaguda</td>\n",
       "      <td>Telangana</td>\n",
       "      <td>13</td>\n",
       "      <td>14</td>\n",
       "      <td>0</td>\n",
       "    </tr>\n",
       "    <tr>\n",
       "      <th>170235</th>\n",
       "      <td>170236</td>\n",
       "      <td>6913338</td>\n",
       "      <td>61</td>\n",
       "      <td>16</td>\n",
       "      <td>single</td>\n",
       "      <td>rented</td>\n",
       "      <td>yes</td>\n",
       "      <td>Consultant</td>\n",
       "      <td>Satara</td>\n",
       "      <td>Maharashtra</td>\n",
       "      <td>11</td>\n",
       "      <td>14</td>\n",
       "      <td>0</td>\n",
       "    </tr>\n",
       "    <tr>\n",
       "      <th>94273</th>\n",
       "      <td>94274</td>\n",
       "      <td>6543823</td>\n",
       "      <td>50</td>\n",
       "      <td>5</td>\n",
       "      <td>single</td>\n",
       "      <td>rented</td>\n",
       "      <td>yes</td>\n",
       "      <td>Geologist</td>\n",
       "      <td>Kurnool[18]</td>\n",
       "      <td>Andhra_Pradesh</td>\n",
       "      <td>5</td>\n",
       "      <td>13</td>\n",
       "      <td>0</td>\n",
       "    </tr>\n",
       "    <tr>\n",
       "      <th>223471</th>\n",
       "      <td>223472</td>\n",
       "      <td>4581648</td>\n",
       "      <td>35</td>\n",
       "      <td>17</td>\n",
       "      <td>single</td>\n",
       "      <td>rented</td>\n",
       "      <td>yes</td>\n",
       "      <td>Industrial_Engineer</td>\n",
       "      <td>Chapra</td>\n",
       "      <td>Bihar</td>\n",
       "      <td>3</td>\n",
       "      <td>13</td>\n",
       "      <td>1</td>\n",
       "    </tr>\n",
       "    <tr>\n",
       "      <th>41124</th>\n",
       "      <td>41125</td>\n",
       "      <td>8800769</td>\n",
       "      <td>29</td>\n",
       "      <td>4</td>\n",
       "      <td>single</td>\n",
       "      <td>rented</td>\n",
       "      <td>no</td>\n",
       "      <td>Microbiologist</td>\n",
       "      <td>Vasai-Virar</td>\n",
       "      <td>Maharashtra</td>\n",
       "      <td>4</td>\n",
       "      <td>12</td>\n",
       "      <td>1</td>\n",
       "    </tr>\n",
       "    <tr>\n",
       "      <th>251859</th>\n",
       "      <td>251860</td>\n",
       "      <td>6775467</td>\n",
       "      <td>41</td>\n",
       "      <td>13</td>\n",
       "      <td>single</td>\n",
       "      <td>rented</td>\n",
       "      <td>no</td>\n",
       "      <td>Petroleum_Engineer</td>\n",
       "      <td>Ongole</td>\n",
       "      <td>Andhra_Pradesh</td>\n",
       "      <td>8</td>\n",
       "      <td>10</td>\n",
       "      <td>0</td>\n",
       "    </tr>\n",
       "  </tbody>\n",
       "</table>\n",
       "</div>"
      ],
      "text/plain": [
       "            Id   Income  Age  Experience Married/Single House_Ownership  \\\n",
       "190587  190588  5674867   69           4         single          rented   \n",
       "201938  201939  8934196   51          18         single           owned   \n",
       "73293    73294  6758342   33           3         single          rented   \n",
       "220450  220451  1389454   32          16         single          rented   \n",
       "173195  173196  4614035   42          15         single          rented   \n",
       "170235  170236  6913338   61          16         single          rented   \n",
       "94273    94274  6543823   50           5         single          rented   \n",
       "223471  223472  4581648   35          17         single          rented   \n",
       "41124    41125  8800769   29           4         single          rented   \n",
       "251859  251860  6775467   41          13         single          rented   \n",
       "\n",
       "       Car_Ownership           Profession         CITY           STATE  \\\n",
       "190587           yes          Firefighter     Jamnagar         Gujarat   \n",
       "201938            no    Chemical_engineer   Kumbakonam      Tamil_Nadu   \n",
       "73293             no             Comedian      Patiala          Punjab   \n",
       "220450            no              Surgeon      Udaipur       Rajasthan   \n",
       "173195            no     Flight_attendant  Miryalaguda       Telangana   \n",
       "170235           yes           Consultant       Satara     Maharashtra   \n",
       "94273            yes            Geologist  Kurnool[18]  Andhra_Pradesh   \n",
       "223471           yes  Industrial_Engineer       Chapra           Bihar   \n",
       "41124             no       Microbiologist  Vasai-Virar     Maharashtra   \n",
       "251859            no   Petroleum_Engineer       Ongole  Andhra_Pradesh   \n",
       "\n",
       "        CURRENT_JOB_YRS  CURRENT_HOUSE_YRS  Risk_Flag  \n",
       "190587                3                 10          0  \n",
       "201938                3                 10          0  \n",
       "73293                 3                 11          0  \n",
       "220450                3                 12          0  \n",
       "173195               13                 14          0  \n",
       "170235               11                 14          0  \n",
       "94273                 5                 13          0  \n",
       "223471                3                 13          1  \n",
       "41124                 4                 12          1  \n",
       "251859                8                 10          0  "
      ]
     },
     "execution_count": 3,
     "metadata": {},
     "output_type": "execute_result"
    }
   ],
   "source": [
    "df.sample(10)"
   ]
  },
  {
   "cell_type": "markdown",
   "id": "6307fad3",
   "metadata": {
    "papermill": {
     "duration": 0.015871,
     "end_time": "2023-11-14T08:34:22.913969",
     "exception": false,
     "start_time": "2023-11-14T08:34:22.898098",
     "status": "completed"
    },
    "tags": []
   },
   "source": [
    "# Data Information"
   ]
  },
  {
   "cell_type": "code",
   "execution_count": 4,
   "id": "842f126d",
   "metadata": {
    "execution": {
     "iopub.execute_input": "2023-11-14T08:34:22.946667Z",
     "iopub.status.busy": "2023-11-14T08:34:22.946171Z",
     "iopub.status.idle": "2023-11-14T08:34:23.138800Z",
     "shell.execute_reply": "2023-11-14T08:34:23.137262Z"
    },
    "papermill": {
     "duration": 0.21288,
     "end_time": "2023-11-14T08:34:23.142335",
     "exception": false,
     "start_time": "2023-11-14T08:34:22.929455",
     "status": "completed"
    },
    "tags": []
   },
   "outputs": [
    {
     "name": "stdout",
     "output_type": "stream",
     "text": [
      "<class 'pandas.core.frame.DataFrame'>\n",
      "RangeIndex: 252000 entries, 0 to 251999\n",
      "Data columns (total 13 columns):\n",
      " #   Column             Non-Null Count   Dtype \n",
      "---  ------             --------------   ----- \n",
      " 0   Id                 252000 non-null  int64 \n",
      " 1   Income             252000 non-null  int64 \n",
      " 2   Age                252000 non-null  int64 \n",
      " 3   Experience         252000 non-null  int64 \n",
      " 4   Married/Single     252000 non-null  object\n",
      " 5   House_Ownership    252000 non-null  object\n",
      " 6   Car_Ownership      252000 non-null  object\n",
      " 7   Profession         252000 non-null  object\n",
      " 8   CITY               252000 non-null  object\n",
      " 9   STATE              252000 non-null  object\n",
      " 10  CURRENT_JOB_YRS    252000 non-null  int64 \n",
      " 11  CURRENT_HOUSE_YRS  252000 non-null  int64 \n",
      " 12  Risk_Flag          252000 non-null  int64 \n",
      "dtypes: int64(7), object(6)\n",
      "memory usage: 25.0+ MB\n"
     ]
    }
   ],
   "source": [
    "df.info()"
   ]
  },
  {
   "cell_type": "markdown",
   "id": "2798e98f",
   "metadata": {
    "papermill": {
     "duration": 0.014713,
     "end_time": "2023-11-14T08:34:23.172717",
     "exception": false,
     "start_time": "2023-11-14T08:34:23.158004",
     "status": "completed"
    },
    "tags": []
   },
   "source": [
    "# Check Null Values In Data"
   ]
  },
  {
   "cell_type": "code",
   "execution_count": 5,
   "id": "0db0486e",
   "metadata": {
    "execution": {
     "iopub.execute_input": "2023-11-14T08:34:23.204219Z",
     "iopub.status.busy": "2023-11-14T08:34:23.203818Z",
     "iopub.status.idle": "2023-11-14T08:34:23.370557Z",
     "shell.execute_reply": "2023-11-14T08:34:23.369199Z"
    },
    "papermill": {
     "duration": 0.185334,
     "end_time": "2023-11-14T08:34:23.373166",
     "exception": false,
     "start_time": "2023-11-14T08:34:23.187832",
     "status": "completed"
    },
    "tags": []
   },
   "outputs": [
    {
     "data": {
      "text/plain": [
       "Id                   0\n",
       "Income               0\n",
       "Age                  0\n",
       "Experience           0\n",
       "Married/Single       0\n",
       "House_Ownership      0\n",
       "Car_Ownership        0\n",
       "Profession           0\n",
       "CITY                 0\n",
       "STATE                0\n",
       "CURRENT_JOB_YRS      0\n",
       "CURRENT_HOUSE_YRS    0\n",
       "Risk_Flag            0\n",
       "dtype: int64"
      ]
     },
     "execution_count": 5,
     "metadata": {},
     "output_type": "execute_result"
    }
   ],
   "source": [
    "df.isnull().sum()"
   ]
  },
  {
   "cell_type": "markdown",
   "id": "1b710bb3",
   "metadata": {
    "papermill": {
     "duration": 0.014405,
     "end_time": "2023-11-14T08:34:23.402639",
     "exception": false,
     "start_time": "2023-11-14T08:34:23.388234",
     "status": "completed"
    },
    "tags": []
   },
   "source": [
    "# Data Describe"
   ]
  },
  {
   "cell_type": "code",
   "execution_count": 6,
   "id": "17ec5413",
   "metadata": {
    "execution": {
     "iopub.execute_input": "2023-11-14T08:34:23.500728Z",
     "iopub.status.busy": "2023-11-14T08:34:23.500292Z",
     "iopub.status.idle": "2023-11-14T08:34:23.596345Z",
     "shell.execute_reply": "2023-11-14T08:34:23.594894Z"
    },
    "papermill": {
     "duration": 0.181806,
     "end_time": "2023-11-14T08:34:23.599513",
     "exception": false,
     "start_time": "2023-11-14T08:34:23.417707",
     "status": "completed"
    },
    "tags": []
   },
   "outputs": [
    {
     "data": {
      "text/html": [
       "<div>\n",
       "<style scoped>\n",
       "    .dataframe tbody tr th:only-of-type {\n",
       "        vertical-align: middle;\n",
       "    }\n",
       "\n",
       "    .dataframe tbody tr th {\n",
       "        vertical-align: top;\n",
       "    }\n",
       "\n",
       "    .dataframe thead th {\n",
       "        text-align: right;\n",
       "    }\n",
       "</style>\n",
       "<table border=\"1\" class=\"dataframe\">\n",
       "  <thead>\n",
       "    <tr style=\"text-align: right;\">\n",
       "      <th></th>\n",
       "      <th>count</th>\n",
       "      <th>mean</th>\n",
       "      <th>std</th>\n",
       "      <th>min</th>\n",
       "      <th>25%</th>\n",
       "      <th>50%</th>\n",
       "      <th>75%</th>\n",
       "      <th>max</th>\n",
       "    </tr>\n",
       "  </thead>\n",
       "  <tbody>\n",
       "    <tr>\n",
       "      <th>Id</th>\n",
       "      <td>252000.0</td>\n",
       "      <td>1.260005e+05</td>\n",
       "      <td>7.274628e+04</td>\n",
       "      <td>1.0</td>\n",
       "      <td>63000.75</td>\n",
       "      <td>126000.5</td>\n",
       "      <td>189000.25</td>\n",
       "      <td>252000.0</td>\n",
       "    </tr>\n",
       "    <tr>\n",
       "      <th>Income</th>\n",
       "      <td>252000.0</td>\n",
       "      <td>4.997117e+06</td>\n",
       "      <td>2.878311e+06</td>\n",
       "      <td>10310.0</td>\n",
       "      <td>2503015.00</td>\n",
       "      <td>5000694.5</td>\n",
       "      <td>7477502.00</td>\n",
       "      <td>9999938.0</td>\n",
       "    </tr>\n",
       "    <tr>\n",
       "      <th>Age</th>\n",
       "      <td>252000.0</td>\n",
       "      <td>4.995407e+01</td>\n",
       "      <td>1.706385e+01</td>\n",
       "      <td>21.0</td>\n",
       "      <td>35.00</td>\n",
       "      <td>50.0</td>\n",
       "      <td>65.00</td>\n",
       "      <td>79.0</td>\n",
       "    </tr>\n",
       "    <tr>\n",
       "      <th>Experience</th>\n",
       "      <td>252000.0</td>\n",
       "      <td>1.008444e+01</td>\n",
       "      <td>6.002590e+00</td>\n",
       "      <td>0.0</td>\n",
       "      <td>5.00</td>\n",
       "      <td>10.0</td>\n",
       "      <td>15.00</td>\n",
       "      <td>20.0</td>\n",
       "    </tr>\n",
       "    <tr>\n",
       "      <th>CURRENT_JOB_YRS</th>\n",
       "      <td>252000.0</td>\n",
       "      <td>6.333877e+00</td>\n",
       "      <td>3.647053e+00</td>\n",
       "      <td>0.0</td>\n",
       "      <td>3.00</td>\n",
       "      <td>6.0</td>\n",
       "      <td>9.00</td>\n",
       "      <td>14.0</td>\n",
       "    </tr>\n",
       "    <tr>\n",
       "      <th>CURRENT_HOUSE_YRS</th>\n",
       "      <td>252000.0</td>\n",
       "      <td>1.199779e+01</td>\n",
       "      <td>1.399037e+00</td>\n",
       "      <td>10.0</td>\n",
       "      <td>11.00</td>\n",
       "      <td>12.0</td>\n",
       "      <td>13.00</td>\n",
       "      <td>14.0</td>\n",
       "    </tr>\n",
       "    <tr>\n",
       "      <th>Risk_Flag</th>\n",
       "      <td>252000.0</td>\n",
       "      <td>1.230000e-01</td>\n",
       "      <td>3.284379e-01</td>\n",
       "      <td>0.0</td>\n",
       "      <td>0.00</td>\n",
       "      <td>0.0</td>\n",
       "      <td>0.00</td>\n",
       "      <td>1.0</td>\n",
       "    </tr>\n",
       "  </tbody>\n",
       "</table>\n",
       "</div>"
      ],
      "text/plain": [
       "                      count          mean           std      min         25%  \\\n",
       "Id                 252000.0  1.260005e+05  7.274628e+04      1.0    63000.75   \n",
       "Income             252000.0  4.997117e+06  2.878311e+06  10310.0  2503015.00   \n",
       "Age                252000.0  4.995407e+01  1.706385e+01     21.0       35.00   \n",
       "Experience         252000.0  1.008444e+01  6.002590e+00      0.0        5.00   \n",
       "CURRENT_JOB_YRS    252000.0  6.333877e+00  3.647053e+00      0.0        3.00   \n",
       "CURRENT_HOUSE_YRS  252000.0  1.199779e+01  1.399037e+00     10.0       11.00   \n",
       "Risk_Flag          252000.0  1.230000e-01  3.284379e-01      0.0        0.00   \n",
       "\n",
       "                         50%         75%        max  \n",
       "Id                  126000.5   189000.25   252000.0  \n",
       "Income             5000694.5  7477502.00  9999938.0  \n",
       "Age                     50.0       65.00       79.0  \n",
       "Experience              10.0       15.00       20.0  \n",
       "CURRENT_JOB_YRS          6.0        9.00       14.0  \n",
       "CURRENT_HOUSE_YRS       12.0       13.00       14.0  \n",
       "Risk_Flag                0.0        0.00        1.0  "
      ]
     },
     "execution_count": 6,
     "metadata": {},
     "output_type": "execute_result"
    }
   ],
   "source": [
    "df.describe().T"
   ]
  },
  {
   "cell_type": "markdown",
   "id": "15105f71",
   "metadata": {
    "papermill": {
     "duration": 0.015143,
     "end_time": "2023-11-14T08:34:23.631009",
     "exception": false,
     "start_time": "2023-11-14T08:34:23.615866",
     "status": "completed"
    },
    "tags": []
   },
   "source": [
    "# Check Number Of Unique Value In Each Columns"
   ]
  },
  {
   "cell_type": "code",
   "execution_count": 7,
   "id": "9118393b",
   "metadata": {
    "execution": {
     "iopub.execute_input": "2023-11-14T08:34:23.663504Z",
     "iopub.status.busy": "2023-11-14T08:34:23.663084Z",
     "iopub.status.idle": "2023-11-14T08:34:23.828990Z",
     "shell.execute_reply": "2023-11-14T08:34:23.827217Z"
    },
    "papermill": {
     "duration": 0.185245,
     "end_time": "2023-11-14T08:34:23.831746",
     "exception": false,
     "start_time": "2023-11-14T08:34:23.646501",
     "status": "completed"
    },
    "tags": []
   },
   "outputs": [
    {
     "name": "stdout",
     "output_type": "stream",
     "text": [
      "Id : 252000\n",
      "Income : 41920\n",
      "Age : 59\n",
      "Experience : 21\n",
      "Married/Single : 2\n",
      "House_Ownership : 3\n",
      "Car_Ownership : 2\n",
      "Profession : 51\n",
      "CITY : 317\n",
      "STATE : 29\n",
      "CURRENT_JOB_YRS : 15\n",
      "CURRENT_HOUSE_YRS : 5\n",
      "Risk_Flag : 2\n"
     ]
    }
   ],
   "source": [
    "for i in df.columns:\n",
    "    print(i,\":\",df[i].nunique())"
   ]
  },
  {
   "cell_type": "markdown",
   "id": "f183b83c",
   "metadata": {
    "papermill": {
     "duration": 0.015108,
     "end_time": "2023-11-14T08:34:23.862738",
     "exception": false,
     "start_time": "2023-11-14T08:34:23.847630",
     "status": "completed"
    },
    "tags": []
   },
   "source": [
    "# Drop Id Column"
   ]
  },
  {
   "cell_type": "code",
   "execution_count": 8,
   "id": "7da9e370",
   "metadata": {
    "execution": {
     "iopub.execute_input": "2023-11-14T08:34:23.896030Z",
     "iopub.status.busy": "2023-11-14T08:34:23.895553Z",
     "iopub.status.idle": "2023-11-14T08:34:23.930928Z",
     "shell.execute_reply": "2023-11-14T08:34:23.929992Z"
    },
    "papermill": {
     "duration": 0.054991,
     "end_time": "2023-11-14T08:34:23.933623",
     "exception": false,
     "start_time": "2023-11-14T08:34:23.878632",
     "status": "completed"
    },
    "tags": []
   },
   "outputs": [],
   "source": [
    "df.drop('Id',axis = 1,inplace = True)"
   ]
  },
  {
   "cell_type": "markdown",
   "id": "cb6afd5d",
   "metadata": {
    "papermill": {
     "duration": 0.015127,
     "end_time": "2023-11-14T08:34:23.964147",
     "exception": false,
     "start_time": "2023-11-14T08:34:23.949020",
     "status": "completed"
    },
    "tags": []
   },
   "source": [
    "# Store categorical Columns In One variable"
   ]
  },
  {
   "cell_type": "code",
   "execution_count": 9,
   "id": "53f89e5b",
   "metadata": {
    "execution": {
     "iopub.execute_input": "2023-11-14T08:34:23.996961Z",
     "iopub.status.busy": "2023-11-14T08:34:23.996191Z",
     "iopub.status.idle": "2023-11-14T08:34:24.001614Z",
     "shell.execute_reply": "2023-11-14T08:34:24.000421Z"
    },
    "papermill": {
     "duration": 0.024541,
     "end_time": "2023-11-14T08:34:24.004059",
     "exception": false,
     "start_time": "2023-11-14T08:34:23.979518",
     "status": "completed"
    },
    "tags": []
   },
   "outputs": [],
   "source": [
    "cat_col = ['Married/Single','House_Ownership', 'Car_Ownership', 'Profession','CITY','STATE',\n",
    "       'CURRENT_JOB_YRS']"
   ]
  },
  {
   "cell_type": "markdown",
   "id": "9d62d931",
   "metadata": {
    "papermill": {
     "duration": 0.015654,
     "end_time": "2023-11-14T08:34:24.035389",
     "exception": false,
     "start_time": "2023-11-14T08:34:24.019735",
     "status": "completed"
    },
    "tags": []
   },
   "source": [
    "# Perform EDA"
   ]
  },
  {
   "cell_type": "code",
   "execution_count": 10,
   "id": "8e7c218e",
   "metadata": {
    "execution": {
     "iopub.execute_input": "2023-11-14T08:34:24.077549Z",
     "iopub.status.busy": "2023-11-14T08:34:24.076686Z",
     "iopub.status.idle": "2023-11-14T08:34:30.846141Z",
     "shell.execute_reply": "2023-11-14T08:34:30.844815Z"
    },
    "papermill": {
     "duration": 6.792337,
     "end_time": "2023-11-14T08:34:30.849090",
     "exception": false,
     "start_time": "2023-11-14T08:34:24.056753",
     "status": "completed"
    },
    "tags": []
   },
   "outputs": [
    {
     "data": {
      "image/png": "[encoded data removed]",
      "text/plain": [
       "<Figure size 640x480 with 1 Axes>"
      ]
     },
     "metadata": {},
     "output_type": "display_data"
    },
    {
     "data": {
      "image/png": "[encoded data removed]",
      "text/plain": [
       "<Figure size 640x480 with 1 Axes>"
      ]
     },
     "metadata": {},
     "output_type": "display_data"
    },
    {
     "data": {
      "image/png": "[encoded data removed]",
      "text/plain": [
       "<Figure size 640x480 with 1 Axes>"
      ]
     },
     "metadata": {},
     "output_type": "display_data"
    },
    {
     "data": {
      "image/png": "[encoded data removed]",
      "text/plain": [
       "<Figure size 640x480 with 1 Axes>"
      ]
     },
     "metadata": {},
     "output_type": "display_data"
    },
    {
     "data": {
      "image/png": "[encoded data removed]",
      "text/plain": [
       "<Figure size 640x480 with 1 Axes>"
      ]
     },
     "metadata": {},
     "output_type": "display_data"
    },
    {
     "data": {
      "image/png": "[encoded data removed]",
      "text/plain": [
       "<Figure size 640x480 with 1 Axes>"
      ]
     },
     "metadata": {},
     "output_type": "display_data"
    },
    {
     "data": {
      "image/png": "[encoded data removed]",
      "text/plain": [
       "<Figure size 640x480 with 1 Axes>"
      ]
     },
     "metadata": {},
     "output_type": "display_data"
    },
    {
     "data": {
      "text/plain": [
       "<Figure size 640x480 with 0 Axes>"
      ]
     },
     "metadata": {},
     "output_type": "display_data"
    }
   ],
   "source": [
    "for i in cat_col:\n",
    "    sns.countplot(x = i,data = df)\n",
    "    plt.show()\n",
    "    plt.tight_layout()"
   ]
  },
  {
   "cell_type": "code",
   "execution_count": 11,
   "id": "1f974ff6",
   "metadata": {
    "execution": {
     "iopub.execute_input": "2023-11-14T08:34:30.891890Z",
     "iopub.status.busy": "2023-11-14T08:34:30.890980Z",
     "iopub.status.idle": "2023-11-14T08:34:31.440763Z",
     "shell.execute_reply": "2023-11-14T08:34:31.439322Z"
    },
    "papermill": {
     "duration": 0.575926,
     "end_time": "2023-11-14T08:34:31.443763",
     "exception": false,
     "start_time": "2023-11-14T08:34:30.867837",
     "status": "completed"
    },
    "tags": []
   },
   "outputs": [
    {
     "data": {
      "text/plain": [
       "<Axes: xlabel='Risk_Flag', ylabel='count'>"
      ]
     },
     "execution_count": 11,
     "metadata": {},
     "output_type": "execute_result"
    },
    {
     "data": {
      "image/png": "[encoded data removed]",
      "text/plain": [
       "<Figure size 640x480 with 1 Axes>"
      ]
     },
     "metadata": {},
     "output_type": "display_data"
    }
   ],
   "source": [
    "sns.countplot(x = 'Risk_Flag',data = df, hue = 'Married/Single')"
   ]
  },
  {
   "cell_type": "markdown",
   "id": "7d51e272",
   "metadata": {
    "papermill": {
     "duration": 0.019343,
     "end_time": "2023-11-14T08:34:31.483555",
     "exception": false,
     "start_time": "2023-11-14T08:34:31.464212",
     "status": "completed"
    },
    "tags": []
   },
   "source": [
    "# Check Outliers In Income And Age"
   ]
  },
  {
   "cell_type": "code",
   "execution_count": 12,
   "id": "1ee76d3f",
   "metadata": {
    "execution": {
     "iopub.execute_input": "2023-11-14T08:34:31.527467Z",
     "iopub.status.busy": "2023-11-14T08:34:31.526473Z",
     "iopub.status.idle": "2023-11-14T08:34:31.777236Z",
     "shell.execute_reply": "2023-11-14T08:34:31.776235Z"
    },
    "papermill": {
     "duration": 0.277264,
     "end_time": "2023-11-14T08:34:31.780080",
     "exception": false,
     "start_time": "2023-11-14T08:34:31.502816",
     "status": "completed"
    },
    "tags": []
   },
   "outputs": [
    {
     "data": {
      "text/plain": [
       "<Axes: xlabel='Income'>"
      ]
     },
     "execution_count": 12,
     "metadata": {},
     "output_type": "execute_result"
    },
    {
     "data": {
      "image/png": "[encoded data removed]",
      "text/plain": [
       "<Figure size 640x480 with 1 Axes>"
      ]
     },
     "metadata": {},
     "output_type": "display_data"
    }
   ],
   "source": [
    "sns.boxplot(x = 'Income', data = df)"
   ]
  },
  {
   "cell_type": "code",
   "execution_count": 13,
   "id": "ed85457c",
   "metadata": {
    "execution": {
     "iopub.execute_input": "2023-11-14T08:34:31.822164Z",
     "iopub.status.busy": "2023-11-14T08:34:31.821344Z",
     "iopub.status.idle": "2023-11-14T08:34:32.067960Z",
     "shell.execute_reply": "2023-11-14T08:34:32.066481Z"
    },
    "papermill": {
     "duration": 0.270367,
     "end_time": "2023-11-14T08:34:32.070646",
     "exception": false,
     "start_time": "2023-11-14T08:34:31.800279",
     "status": "completed"
    },
    "tags": []
   },
   "outputs": [
    {
     "data": {
      "text/plain": [
       "<Axes: xlabel='Age'>"
      ]
     },
     "execution_count": 13,
     "metadata": {},
     "output_type": "execute_result"
    },
    {
     "data": {
      "image/png": "[encoded data removed]",
      "text/plain": [
       "<Figure size 640x480 with 1 Axes>"
      ]
     },
     "metadata": {},
     "output_type": "display_data"
    }
   ],
   "source": [
    "sns.boxplot(x = 'Age', data = df)"
   ]
  },
  {
   "cell_type": "code",
   "execution_count": 14,
   "id": "ae08636a",
   "metadata": {
    "execution": {
     "iopub.execute_input": "2023-11-14T08:34:32.114142Z",
     "iopub.status.busy": "2023-11-14T08:34:32.113681Z",
     "iopub.status.idle": "2023-11-14T08:34:33.634059Z",
     "shell.execute_reply": "2023-11-14T08:34:33.632667Z"
    },
    "papermill": {
     "duration": 1.546435,
     "end_time": "2023-11-14T08:34:33.636962",
     "exception": false,
     "start_time": "2023-11-14T08:34:32.090527",
     "status": "completed"
    },
    "tags": []
   },
   "outputs": [
    {
     "data": {
      "text/plain": [
       "<Axes: xlabel='Income', ylabel='Count'>"
      ]
     },
     "execution_count": 14,
     "metadata": {},
     "output_type": "execute_result"
    },
    {
     "data": {
      "image/png": "[encoded data removed]",
      "text/plain": [
       "<Figure size 640x480 with 1 Axes>"
      ]
     },
     "metadata": {},
     "output_type": "display_data"
    }
   ],
   "source": [
    "sns.histplot(x = 'Income', data = df,kde=True,bins = 30)"
   ]
  },
  {
   "cell_type": "markdown",
   "id": "22a293bb",
   "metadata": {
    "papermill": {
     "duration": 0.021422,
     "end_time": "2023-11-14T08:34:33.680316",
     "exception": false,
     "start_time": "2023-11-14T08:34:33.658894",
     "status": "completed"
    },
    "tags": []
   },
   "source": [
    "#  Preprocessing Step In Machine Learning. "
   ]
  },
  {
   "cell_type": "markdown",
   "id": "c5c35deb",
   "metadata": {
    "papermill": {
     "duration": 0.021782,
     "end_time": "2023-11-14T08:34:33.724018",
     "exception": false,
     "start_time": "2023-11-14T08:34:33.702236",
     "status": "completed"
    },
    "tags": []
   },
   "source": [
    "# Converting categorical columns to numerical columns"
   ]
  },
  {
   "cell_type": "code",
   "execution_count": 15,
   "id": "3db76a34",
   "metadata": {
    "execution": {
     "iopub.execute_input": "2023-11-14T08:34:33.770165Z",
     "iopub.status.busy": "2023-11-14T08:34:33.769696Z",
     "iopub.status.idle": "2023-11-14T08:34:34.310245Z",
     "shell.execute_reply": "2023-11-14T08:34:34.308383Z"
    },
    "papermill": {
     "duration": 0.568753,
     "end_time": "2023-11-14T08:34:34.313791",
     "exception": false,
     "start_time": "2023-11-14T08:34:33.745038",
     "status": "completed"
    },
    "tags": []
   },
   "outputs": [],
   "source": [
    "en = LabelEncoder()\n",
    "for i in cat_col:\n",
    "    df[i] = en.fit_transform(df[i])"
   ]
  },
  {
   "cell_type": "code",
   "execution_count": 16,
   "id": "10b6baa0",
   "metadata": {
    "execution": {
     "iopub.execute_input": "2023-11-14T08:34:34.360189Z",
     "iopub.status.busy": "2023-11-14T08:34:34.359725Z",
     "iopub.status.idle": "2023-11-14T08:34:34.382556Z",
     "shell.execute_reply": "2023-11-14T08:34:34.381263Z"
    },
    "papermill": {
     "duration": 0.05035,
     "end_time": "2023-11-14T08:34:34.385941",
     "exception": false,
     "start_time": "2023-11-14T08:34:34.335591",
     "status": "completed"
    },
    "tags": []
   },
   "outputs": [
    {
     "data": {
      "text/html": [
       "<div>\n",
       "<style scoped>\n",
       "    .dataframe tbody tr th:only-of-type {\n",
       "        vertical-align: middle;\n",
       "    }\n",
       "\n",
       "    .dataframe tbody tr th {\n",
       "        vertical-align: top;\n",
       "    }\n",
       "\n",
       "    .dataframe thead th {\n",
       "        text-align: right;\n",
       "    }\n",
       "</style>\n",
       "<table border=\"1\" class=\"dataframe\">\n",
       "  <thead>\n",
       "    <tr style=\"text-align: right;\">\n",
       "      <th></th>\n",
       "      <th>Income</th>\n",
       "      <th>Age</th>\n",
       "      <th>Experience</th>\n",
       "      <th>Married/Single</th>\n",
       "      <th>House_Ownership</th>\n",
       "      <th>Car_Ownership</th>\n",
       "      <th>Profession</th>\n",
       "      <th>CITY</th>\n",
       "      <th>STATE</th>\n",
       "      <th>CURRENT_JOB_YRS</th>\n",
       "      <th>CURRENT_HOUSE_YRS</th>\n",
       "      <th>Risk_Flag</th>\n",
       "    </tr>\n",
       "  </thead>\n",
       "  <tbody>\n",
       "    <tr>\n",
       "      <th>0</th>\n",
       "      <td>1303834</td>\n",
       "      <td>23</td>\n",
       "      <td>3</td>\n",
       "      <td>1</td>\n",
       "      <td>2</td>\n",
       "      <td>0</td>\n",
       "      <td>33</td>\n",
       "      <td>251</td>\n",
       "      <td>13</td>\n",
       "      <td>3</td>\n",
       "      <td>13</td>\n",
       "      <td>0</td>\n",
       "    </tr>\n",
       "    <tr>\n",
       "      <th>1</th>\n",
       "      <td>7574516</td>\n",
       "      <td>40</td>\n",
       "      <td>10</td>\n",
       "      <td>1</td>\n",
       "      <td>2</td>\n",
       "      <td>0</td>\n",
       "      <td>43</td>\n",
       "      <td>227</td>\n",
       "      <td>14</td>\n",
       "      <td>9</td>\n",
       "      <td>13</td>\n",
       "      <td>0</td>\n",
       "    </tr>\n",
       "    <tr>\n",
       "      <th>2</th>\n",
       "      <td>3991815</td>\n",
       "      <td>66</td>\n",
       "      <td>4</td>\n",
       "      <td>0</td>\n",
       "      <td>2</td>\n",
       "      <td>0</td>\n",
       "      <td>47</td>\n",
       "      <td>8</td>\n",
       "      <td>12</td>\n",
       "      <td>4</td>\n",
       "      <td>10</td>\n",
       "      <td>0</td>\n",
       "    </tr>\n",
       "    <tr>\n",
       "      <th>3</th>\n",
       "      <td>6256451</td>\n",
       "      <td>41</td>\n",
       "      <td>2</td>\n",
       "      <td>1</td>\n",
       "      <td>2</td>\n",
       "      <td>1</td>\n",
       "      <td>43</td>\n",
       "      <td>54</td>\n",
       "      <td>17</td>\n",
       "      <td>2</td>\n",
       "      <td>12</td>\n",
       "      <td>1</td>\n",
       "    </tr>\n",
       "    <tr>\n",
       "      <th>4</th>\n",
       "      <td>5768871</td>\n",
       "      <td>47</td>\n",
       "      <td>11</td>\n",
       "      <td>1</td>\n",
       "      <td>2</td>\n",
       "      <td>0</td>\n",
       "      <td>11</td>\n",
       "      <td>296</td>\n",
       "      <td>22</td>\n",
       "      <td>3</td>\n",
       "      <td>14</td>\n",
       "      <td>1</td>\n",
       "    </tr>\n",
       "    <tr>\n",
       "      <th>...</th>\n",
       "      <td>...</td>\n",
       "      <td>...</td>\n",
       "      <td>...</td>\n",
       "      <td>...</td>\n",
       "      <td>...</td>\n",
       "      <td>...</td>\n",
       "      <td>...</td>\n",
       "      <td>...</td>\n",
       "      <td>...</td>\n",
       "      <td>...</td>\n",
       "      <td>...</td>\n",
       "      <td>...</td>\n",
       "    </tr>\n",
       "    <tr>\n",
       "      <th>251995</th>\n",
       "      <td>8154883</td>\n",
       "      <td>43</td>\n",
       "      <td>13</td>\n",
       "      <td>1</td>\n",
       "      <td>2</td>\n",
       "      <td>0</td>\n",
       "      <td>45</td>\n",
       "      <td>162</td>\n",
       "      <td>28</td>\n",
       "      <td>6</td>\n",
       "      <td>11</td>\n",
       "      <td>0</td>\n",
       "    </tr>\n",
       "    <tr>\n",
       "      <th>251996</th>\n",
       "      <td>2843572</td>\n",
       "      <td>26</td>\n",
       "      <td>10</td>\n",
       "      <td>1</td>\n",
       "      <td>2</td>\n",
       "      <td>0</td>\n",
       "      <td>3</td>\n",
       "      <td>251</td>\n",
       "      <td>13</td>\n",
       "      <td>6</td>\n",
       "      <td>11</td>\n",
       "      <td>0</td>\n",
       "    </tr>\n",
       "    <tr>\n",
       "      <th>251997</th>\n",
       "      <td>4522448</td>\n",
       "      <td>46</td>\n",
       "      <td>7</td>\n",
       "      <td>1</td>\n",
       "      <td>2</td>\n",
       "      <td>0</td>\n",
       "      <td>17</td>\n",
       "      <td>144</td>\n",
       "      <td>14</td>\n",
       "      <td>7</td>\n",
       "      <td>12</td>\n",
       "      <td>0</td>\n",
       "    </tr>\n",
       "    <tr>\n",
       "      <th>251998</th>\n",
       "      <td>6507128</td>\n",
       "      <td>45</td>\n",
       "      <td>0</td>\n",
       "      <td>1</td>\n",
       "      <td>2</td>\n",
       "      <td>0</td>\n",
       "      <td>27</td>\n",
       "      <td>233</td>\n",
       "      <td>18</td>\n",
       "      <td>0</td>\n",
       "      <td>10</td>\n",
       "      <td>0</td>\n",
       "    </tr>\n",
       "    <tr>\n",
       "      <th>251999</th>\n",
       "      <td>9070230</td>\n",
       "      <td>70</td>\n",
       "      <td>17</td>\n",
       "      <td>1</td>\n",
       "      <td>2</td>\n",
       "      <td>0</td>\n",
       "      <td>44</td>\n",
       "      <td>26</td>\n",
       "      <td>22</td>\n",
       "      <td>7</td>\n",
       "      <td>11</td>\n",
       "      <td>0</td>\n",
       "    </tr>\n",
       "  </tbody>\n",
       "</table>\n",
       "<p>252000 rows × 12 columns</p>\n",
       "</div>"
      ],
      "text/plain": [
       "         Income  Age  Experience  Married/Single  House_Ownership  \\\n",
       "0       1303834   23           3               1                2   \n",
       "1       7574516   40          10               1                2   \n",
       "2       3991815   66           4               0                2   \n",
       "3       6256451   41           2               1                2   \n",
       "4       5768871   47          11               1                2   \n",
       "...         ...  ...         ...             ...              ...   \n",
       "251995  8154883   43          13               1                2   \n",
       "251996  2843572   26          10               1                2   \n",
       "251997  4522448   46           7               1                2   \n",
       "251998  6507128   45           0               1                2   \n",
       "251999  9070230   70          17               1                2   \n",
       "\n",
       "        Car_Ownership  Profession  CITY  STATE  CURRENT_JOB_YRS  \\\n",
       "0                   0          33   251     13                3   \n",
       "1                   0          43   227     14                9   \n",
       "2                   0          47     8     12                4   \n",
       "3                   1          43    54     17                2   \n",
       "4                   0          11   296     22                3   \n",
       "...               ...         ...   ...    ...              ...   \n",
       "251995              0          45   162     28                6   \n",
       "251996              0           3   251     13                6   \n",
       "251997              0          17   144     14                7   \n",
       "251998              0          27   233     18                0   \n",
       "251999              0          44    26     22                7   \n",
       "\n",
       "        CURRENT_HOUSE_YRS  Risk_Flag  \n",
       "0                      13          0  \n",
       "1                      13          0  \n",
       "2                      10          0  \n",
       "3                      12          1  \n",
       "4                      14          1  \n",
       "...                   ...        ...  \n",
       "251995                 11          0  \n",
       "251996                 11          0  \n",
       "251997                 12          0  \n",
       "251998                 10          0  \n",
       "251999                 11          0  \n",
       "\n",
       "[252000 rows x 12 columns]"
      ]
     },
     "execution_count": 16,
     "metadata": {},
     "output_type": "execute_result"
    }
   ],
   "source": [
    "df"
   ]
  },
  {
   "cell_type": "markdown",
   "id": "2876468a",
   "metadata": {
    "papermill": {
     "duration": 0.021576,
     "end_time": "2023-11-14T08:34:34.429404",
     "exception": false,
     "start_time": "2023-11-14T08:34:34.407828",
     "status": "completed"
    },
    "tags": []
   },
   "source": [
    "# X contains your input features, and y contains your target variable"
   ]
  },
  {
   "cell_type": "code",
   "execution_count": 17,
   "id": "121233f2",
   "metadata": {
    "execution": {
     "iopub.execute_input": "2023-11-14T08:34:34.479645Z",
     "iopub.status.busy": "2023-11-14T08:34:34.478345Z",
     "iopub.status.idle": "2023-11-14T08:34:34.506283Z",
     "shell.execute_reply": "2023-11-14T08:34:34.504739Z"
    },
    "papermill": {
     "duration": 0.056079,
     "end_time": "2023-11-14T08:34:34.509259",
     "exception": false,
     "start_time": "2023-11-14T08:34:34.453180",
     "status": "completed"
    },
    "tags": []
   },
   "outputs": [],
   "source": [
    "x = df.drop('Risk_Flag',axis = 1)\n",
    "y = df['Risk_Flag']"
   ]
  },
  {
   "cell_type": "markdown",
   "id": "0792c230",
   "metadata": {
    "papermill": {
     "duration": 0.021757,
     "end_time": "2023-11-14T08:34:34.552750",
     "exception": false,
     "start_time": "2023-11-14T08:34:34.530993",
     "status": "completed"
    },
    "tags": []
   },
   "source": [
    "# To check if your target column is balanced or not"
   ]
  },
  {
   "cell_type": "code",
   "execution_count": 18,
   "id": "0726b4e4",
   "metadata": {
    "execution": {
     "iopub.execute_input": "2023-11-14T08:34:34.598919Z",
     "iopub.status.busy": "2023-11-14T08:34:34.598485Z",
     "iopub.status.idle": "2023-11-14T08:34:34.610874Z",
     "shell.execute_reply": "2023-11-14T08:34:34.609380Z"
    },
    "papermill": {
     "duration": 0.039128,
     "end_time": "2023-11-14T08:34:34.613761",
     "exception": false,
     "start_time": "2023-11-14T08:34:34.574633",
     "status": "completed"
    },
    "tags": []
   },
   "outputs": [
    {
     "data": {
      "text/plain": [
       "Risk_Flag\n",
       "0    221004\n",
       "1     30996\n",
       "Name: count, dtype: int64"
      ]
     },
     "execution_count": 18,
     "metadata": {},
     "output_type": "execute_result"
    }
   ],
   "source": [
    "y.value_counts()"
   ]
  },
  {
   "cell_type": "markdown",
   "id": "3e95a084",
   "metadata": {
    "papermill": {
     "duration": 0.021834,
     "end_time": "2023-11-14T08:34:34.658134",
     "exception": false,
     "start_time": "2023-11-14T08:34:34.636300",
     "status": "completed"
    },
    "tags": []
   },
   "source": [
    "# Not Balanced"
   ]
  },
  {
   "cell_type": "code",
   "execution_count": 19,
   "id": "e77ff1f1",
   "metadata": {
    "execution": {
     "iopub.execute_input": "2023-11-14T08:34:34.706829Z",
     "iopub.status.busy": "2023-11-14T08:34:34.706378Z",
     "iopub.status.idle": "2023-11-14T08:34:34.907764Z",
     "shell.execute_reply": "2023-11-14T08:34:34.905867Z"
    },
    "papermill": {
     "duration": 0.231332,
     "end_time": "2023-11-14T08:34:34.912693",
     "exception": false,
     "start_time": "2023-11-14T08:34:34.681361",
     "status": "completed"
    },
    "tags": []
   },
   "outputs": [
    {
     "data": {
      "text/plain": [
       "<Axes: ylabel='count'>"
      ]
     },
     "execution_count": 19,
     "metadata": {},
     "output_type": "execute_result"
    },
    {
     "data": {
      "image/png": "[encoded data removed]",
      "text/plain": [
       "<Figure size 640x480 with 1 Axes>"
      ]
     },
     "metadata": {},
     "output_type": "display_data"
    }
   ],
   "source": [
    "y.value_counts().plot.pie(autopct = '%.2f')"
   ]
  },
  {
   "cell_type": "markdown",
   "id": "bb60d37b",
   "metadata": {
    "papermill": {
     "duration": 0.026672,
     "end_time": "2023-11-14T08:34:34.987695",
     "exception": false,
     "start_time": "2023-11-14T08:34:34.961023",
     "status": "completed"
    },
    "tags": []
   },
   "source": [
    "# Balancing the target column "
   ]
  },
  {
   "cell_type": "code",
   "execution_count": 20,
   "id": "8353d1d0",
   "metadata": {
    "execution": {
     "iopub.execute_input": "2023-11-14T08:34:35.034088Z",
     "iopub.status.busy": "2023-11-14T08:34:35.032995Z",
     "iopub.status.idle": "2023-11-14T08:34:35.038062Z",
     "shell.execute_reply": "2023-11-14T08:34:35.036906Z"
    },
    "papermill": {
     "duration": 0.031078,
     "end_time": "2023-11-14T08:34:35.040705",
     "exception": false,
     "start_time": "2023-11-14T08:34:35.009627",
     "status": "completed"
    },
    "tags": []
   },
   "outputs": [],
   "source": [
    "ros = RandomOverSampler()"
   ]
  },
  {
   "cell_type": "code",
   "execution_count": 21,
   "id": "1558eb75",
   "metadata": {
    "execution": {
     "iopub.execute_input": "2023-11-14T08:34:35.086820Z",
     "iopub.status.busy": "2023-11-14T08:34:35.086316Z",
     "iopub.status.idle": "2023-11-14T08:34:35.276186Z",
     "shell.execute_reply": "2023-11-14T08:34:35.274961Z"
    },
    "papermill": {
     "duration": 0.216266,
     "end_time": "2023-11-14T08:34:35.279206",
     "exception": false,
     "start_time": "2023-11-14T08:34:35.062940",
     "status": "completed"
    },
    "tags": []
   },
   "outputs": [],
   "source": [
    "x,y = ros.fit_resample(x,y)"
   ]
  },
  {
   "cell_type": "code",
   "execution_count": 22,
   "id": "18b4b7b1",
   "metadata": {
    "execution": {
     "iopub.execute_input": "2023-11-14T08:34:35.325983Z",
     "iopub.status.busy": "2023-11-14T08:34:35.325560Z",
     "iopub.status.idle": "2023-11-14T08:34:35.338139Z",
     "shell.execute_reply": "2023-11-14T08:34:35.337299Z"
    },
    "papermill": {
     "duration": 0.038795,
     "end_time": "2023-11-14T08:34:35.340291",
     "exception": false,
     "start_time": "2023-11-14T08:34:35.301496",
     "status": "completed"
    },
    "tags": []
   },
   "outputs": [
    {
     "data": {
      "text/plain": [
       "Risk_Flag\n",
       "0    221004\n",
       "1    221004\n",
       "Name: count, dtype: int64"
      ]
     },
     "execution_count": 22,
     "metadata": {},
     "output_type": "execute_result"
    }
   ],
   "source": [
    "y.value_counts()"
   ]
  },
  {
   "cell_type": "code",
   "execution_count": 23,
   "id": "d557035c",
   "metadata": {
    "execution": {
     "iopub.execute_input": "2023-11-14T08:34:35.389463Z",
     "iopub.status.busy": "2023-11-14T08:34:35.388500Z",
     "iopub.status.idle": "2023-11-14T08:34:35.526227Z",
     "shell.execute_reply": "2023-11-14T08:34:35.524541Z"
    },
    "papermill": {
     "duration": 0.1675,
     "end_time": "2023-11-14T08:34:35.530691",
     "exception": false,
     "start_time": "2023-11-14T08:34:35.363191",
     "status": "completed"
    },
    "tags": []
   },
   "outputs": [
    {
     "data": {
      "text/plain": [
       "<Axes: ylabel='count'>"
      ]
     },
     "execution_count": 23,
     "metadata": {},
     "output_type": "execute_result"
    },
    {
     "data": {
      "image/png": "[encoded data removed]",
      "text/plain": [
       "<Figure size 640x480 with 1 Axes>"
      ]
     },
     "metadata": {},
     "output_type": "display_data"
    }
   ],
   "source": [
    "y.value_counts().plot.pie(autopct = '%.2f')"
   ]
  },
  {
   "cell_type": "markdown",
   "id": "7e4ed9dd",
   "metadata": {
    "papermill": {
     "duration": 0.03257,
     "end_time": "2023-11-14T08:34:35.611354",
     "exception": false,
     "start_time": "2023-11-14T08:34:35.578784",
     "status": "completed"
    },
    "tags": []
   },
   "source": [
    "# Standardize the features of a dataset"
   ]
  },
  {
   "cell_type": "code",
   "execution_count": 24,
   "id": "e6d5217a",
   "metadata": {
    "execution": {
     "iopub.execute_input": "2023-11-14T08:34:35.662717Z",
     "iopub.status.busy": "2023-11-14T08:34:35.662293Z",
     "iopub.status.idle": "2023-11-14T08:34:35.801669Z",
     "shell.execute_reply": "2023-11-14T08:34:35.800545Z"
    },
    "papermill": {
     "duration": 0.168882,
     "end_time": "2023-11-14T08:34:35.804477",
     "exception": false,
     "start_time": "2023-11-14T08:34:35.635595",
     "status": "completed"
    },
    "tags": []
   },
   "outputs": [],
   "source": [
    "ss = StandardScaler()\n",
    "x = ss.fit_transform(x)"
   ]
  },
  {
   "cell_type": "markdown",
   "id": "8260929c",
   "metadata": {
    "papermill": {
     "duration": 0.023262,
     "end_time": "2023-11-14T08:34:35.850655",
     "exception": false,
     "start_time": "2023-11-14T08:34:35.827393",
     "status": "completed"
    },
    "tags": []
   },
   "source": [
    "# Split data into training and testing sets"
   ]
  },
  {
   "cell_type": "code",
   "execution_count": 25,
   "id": "155d1fb0",
   "metadata": {
    "execution": {
     "iopub.execute_input": "2023-11-14T08:34:35.901083Z",
     "iopub.status.busy": "2023-11-14T08:34:35.900004Z",
     "iopub.status.idle": "2023-11-14T08:34:36.017303Z",
     "shell.execute_reply": "2023-11-14T08:34:36.015408Z"
    },
    "papermill": {
     "duration": 0.145378,
     "end_time": "2023-11-14T08:34:36.020455",
     "exception": false,
     "start_time": "2023-11-14T08:34:35.875077",
     "status": "completed"
    },
    "tags": []
   },
   "outputs": [],
   "source": [
    "x_train,x_test,y_train,y_test = train_test_split(x,y,test_size=0.2,random_state=42)"
   ]
  },
  {
   "cell_type": "markdown",
   "id": "bb69404f",
   "metadata": {
    "papermill": {
     "duration": 0.023617,
     "end_time": "2023-11-14T08:34:36.067723",
     "exception": false,
     "start_time": "2023-11-14T08:34:36.044106",
     "status": "completed"
    },
    "tags": []
   },
   "source": [
    "# Creating an instance of the RandomForestClassifier"
   ]
  },
  {
   "cell_type": "code",
   "execution_count": 26,
   "id": "a1aa5121",
   "metadata": {
    "execution": {
     "iopub.execute_input": "2023-11-14T08:34:36.118382Z",
     "iopub.status.busy": "2023-11-14T08:34:36.117000Z",
     "iopub.status.idle": "2023-11-14T08:34:36.124030Z",
     "shell.execute_reply": "2023-11-14T08:34:36.123048Z"
    },
    "papermill": {
     "duration": 0.033808,
     "end_time": "2023-11-14T08:34:36.126302",
     "exception": false,
     "start_time": "2023-11-14T08:34:36.092494",
     "status": "completed"
    },
    "tags": []
   },
   "outputs": [],
   "source": [
    "rfc = RandomForestClassifier(max_depth=100,random_state=100)"
   ]
  },
  {
   "cell_type": "markdown",
   "id": "0325e38d",
   "metadata": {
    "papermill": {
     "duration": 0.023398,
     "end_time": "2023-11-14T08:34:36.173037",
     "exception": false,
     "start_time": "2023-11-14T08:34:36.149639",
     "status": "completed"
    },
    "tags": []
   },
   "source": [
    "# Train the RandomForestClassifier on the training data And Make predictions on the test data\n"
   ]
  },
  {
   "cell_type": "code",
   "execution_count": 27,
   "id": "1d1e9043",
   "metadata": {
    "execution": {
     "iopub.execute_input": "2023-11-14T08:34:36.222639Z",
     "iopub.status.busy": "2023-11-14T08:34:36.220943Z",
     "iopub.status.idle": "2023-11-14T08:36:26.725011Z",
     "shell.execute_reply": "2023-11-14T08:36:26.723866Z"
    },
    "papermill": {
     "duration": 110.532022,
     "end_time": "2023-11-14T08:36:26.728105",
     "exception": false,
     "start_time": "2023-11-14T08:34:36.196083",
     "status": "completed"
    },
    "tags": []
   },
   "outputs": [],
   "source": [
    "rfc.fit(x_train,y_train)\n",
    "predict = rfc.predict(x_test)"
   ]
  },
  {
   "cell_type": "markdown",
   "id": "c452060f",
   "metadata": {
    "papermill": {
     "duration": 0.023144,
     "end_time": "2023-11-14T08:36:26.774919",
     "exception": false,
     "start_time": "2023-11-14T08:36:26.751775",
     "status": "completed"
    },
    "tags": []
   },
   "source": [
    "# Confusion Matrix"
   ]
  },
  {
   "cell_type": "code",
   "execution_count": 28,
   "id": "c5905402",
   "metadata": {
    "execution": {
     "iopub.execute_input": "2023-11-14T08:36:26.825332Z",
     "iopub.status.busy": "2023-11-14T08:36:26.824681Z",
     "iopub.status.idle": "2023-11-14T08:36:26.848769Z",
     "shell.execute_reply": "2023-11-14T08:36:26.847493Z"
    },
    "papermill": {
     "duration": 0.053413,
     "end_time": "2023-11-14T08:36:26.851522",
     "exception": false,
     "start_time": "2023-11-14T08:36:26.798109",
     "status": "completed"
    },
    "tags": []
   },
   "outputs": [
    {
     "name": "stdout",
     "output_type": "stream",
     "text": [
      "[[40571  3752]\n",
      " [    8 44071]]\n"
     ]
    }
   ],
   "source": [
    "print(confusion_matrix(y_test,predict))"
   ]
  },
  {
   "cell_type": "markdown",
   "id": "d7308639",
   "metadata": {
    "papermill": {
     "duration": 0.022201,
     "end_time": "2023-11-14T08:36:26.896340",
     "exception": false,
     "start_time": "2023-11-14T08:36:26.874139",
     "status": "completed"
    },
    "tags": []
   },
   "source": [
    "# Classification Report"
   ]
  },
  {
   "cell_type": "code",
   "execution_count": 29,
   "id": "818cfabf",
   "metadata": {
    "execution": {
     "iopub.execute_input": "2023-11-14T08:36:26.945106Z",
     "iopub.status.busy": "2023-11-14T08:36:26.944645Z",
     "iopub.status.idle": "2023-11-14T08:36:27.123772Z",
     "shell.execute_reply": "2023-11-14T08:36:27.122216Z"
    },
    "papermill": {
     "duration": 0.207683,
     "end_time": "2023-11-14T08:36:27.126743",
     "exception": false,
     "start_time": "2023-11-14T08:36:26.919060",
     "status": "completed"
    },
    "tags": []
   },
   "outputs": [
    {
     "name": "stdout",
     "output_type": "stream",
     "text": [
      "              precision    recall  f1-score   support\n",
      "\n",
      "           0       1.00      0.92      0.96     44323\n",
      "           1       0.92      1.00      0.96     44079\n",
      "\n",
      "    accuracy                           0.96     88402\n",
      "   macro avg       0.96      0.96      0.96     88402\n",
      "weighted avg       0.96      0.96      0.96     88402\n",
      "\n"
     ]
    }
   ],
   "source": [
    "print(classification_report(y_test,predict))"
   ]
  }
 ],
 "metadata": {
  "kernelspec": {
   "display_name": "Python 3",
   "language": "python",
   "name": "python3"
  },
  "language_info": {
   "codemirror_mode": {
    "name": "ipython",
    "version": 3
   },
   "file_extension": ".py",
   "mimetype": "text/x-python",
   "name": "python",
   "nbconvert_exporter": "python",
   "pygments_lexer": "ipython3",
   "version": "3.10.12"
  },
  "papermill": {
   "default_parameters": {},
   "duration": 132.980549,
   "end_time": "2023-11-14T08:36:27.974675",
   "environment_variables": {},
   "exception": null,
   "input_path": "__notebook__.ipynb",
   "output_path": "__notebook__.ipynb",
   "parameters": {},
   "start_time": "2023-11-14T08:34:14.994126",
   "version": "2.4.0"
  }
 },
 "nbformat": 4,
 "nbformat_minor": 5
}
